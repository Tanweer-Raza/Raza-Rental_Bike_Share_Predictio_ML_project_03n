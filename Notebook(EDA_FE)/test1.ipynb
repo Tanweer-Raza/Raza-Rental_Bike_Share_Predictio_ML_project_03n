{
 "cells": [
  {
   "cell_type": "code",
   "execution_count": 8,
   "metadata": {},
   "outputs": [],
   "source": [
    "import pandas as pd\n",
    "bikerental_data_frame = pd.read_csv(\"https://raw.githubusercontent.com/Tanweer-Raza/data_set_for_project/main/hour_updated.csv\")"
   ]
  },
  {
   "cell_type": "code",
   "execution_count": 9,
   "metadata": {},
   "outputs": [],
   "source": [
    "bikerental_data_frame[\"mnth_cat\"] = pd.cut(\n",
    "    bikerental_data_frame[\"mnth\"],\n",
    "    bins = [0,3,6,9,12],\n",
    "    labels=[1,2,3,4]   \n",
    ")"
   ]
  },
  {
   "cell_type": "code",
   "execution_count": 18,
   "metadata": {},
   "outputs": [],
   "source": [
    "from sklearn.model_selection import StratifiedShuffleSplit\n",
    "strat_train_set = None\n",
    "strat_test_set = None\n",
    "\n",
    "#StratifiedShuffleSplit splits data in to train and test having same statistal distribution \n",
    "strat_split = StratifiedShuffleSplit(n_splits=1, test_size=0.2, random_state=42)\n",
    "\n",
    "for train_index,test_index in strat_split.split(bikerental_data_frame, bikerental_data_frame[\"mnth_cat\"]):\n",
    "    strat_train_set = bikerental_data_frame.loc[train_index].drop([\"mnth_cat\"],axis = 1)\n",
    "    strat_test_set = bikerental_data_frame.loc[test_index].drop([\"mnth_cat\"],axis = 1)\n",
    "\n",
    "\n"
   ]
  },
  {
   "cell_type": "code",
   "execution_count": 22,
   "metadata": {},
   "outputs": [
    {
     "data": {
      "text/plain": [
       "139030"
      ]
     },
     "execution_count": 22,
     "metadata": {},
     "output_type": "execute_result"
    }
   ],
   "source": [
    "strat_train_set.size"
   ]
  },
  {
   "cell_type": "code",
   "execution_count": 23,
   "metadata": {},
   "outputs": [
    {
     "data": {
      "text/plain": [
       "34760"
      ]
     },
     "execution_count": 23,
     "metadata": {},
     "output_type": "execute_result"
    }
   ],
   "source": [
    "strat_test_set.size"
   ]
  },
  {
   "cell_type": "code",
   "execution_count": null,
   "metadata": {},
   "outputs": [],
   "source": []
  }
 ],
 "metadata": {
  "kernelspec": {
   "display_name": "Python 3.7.0 (conda)",
   "language": "python",
   "name": "python3"
  },
  "language_info": {
   "codemirror_mode": {
    "name": "ipython",
    "version": 3
   },
   "file_extension": ".py",
   "mimetype": "text/x-python",
   "name": "python",
   "nbconvert_exporter": "python",
   "pygments_lexer": "ipython3",
   "version": "3.7.13"
  },
  "orig_nbformat": 4,
  "vscode": {
   "interpreter": {
    "hash": "324c63c2cf77a837464930d4e6b30d7e0a40fc580bcef44dc5e62fb8971628cf"
   }
  }
 },
 "nbformat": 4,
 "nbformat_minor": 2
}
